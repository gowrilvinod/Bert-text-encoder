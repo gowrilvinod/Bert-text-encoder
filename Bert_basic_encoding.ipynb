{
  "nbformat": 4,
  "nbformat_minor": 0,
  "metadata": {
    "colab": {
      "provenance": [],
      "authorship_tag": "ABX9TyM4mCYT1YQdwS0E91pgWvFT",
      "include_colab_link": true
    },
    "kernelspec": {
      "name": "python3",
      "display_name": "Python 3"
    },
    "language_info": {
      "name": "python"
    }
  },
  "cells": [
    {
      "cell_type": "markdown",
      "metadata": {
        "id": "view-in-github",
        "colab_type": "text"
      },
      "source": [
        "<a href=\"https://colab.research.google.com/github/gowrilvinod/Bert-text-encoder/blob/main/Bert_basic_encoding.ipynb\" target=\"_parent\"><img src=\"https://colab.research.google.com/assets/colab-badge.svg\" alt=\"Open In Colab\"/></a>"
      ]
    },
    {
      "cell_type": "code",
      "execution_count": 1,
      "metadata": {
        "colab": {
          "base_uri": "https://localhost:8080/"
        },
        "id": "RxvWEWpSAraJ",
        "outputId": "4fd88ece-41e1-44f4-c10a-0b861ad63014"
      },
      "outputs": [
        {
          "output_type": "stream",
          "name": "stdout",
          "text": [
            "Requirement already satisfied: pip in /usr/local/lib/python3.10/dist-packages (23.1.2)\n",
            "Collecting pip\n",
            "  Downloading pip-24.0-py3-none-any.whl (2.1 MB)\n",
            "\u001b[2K     \u001b[90m━━━━━━━━━━━━━━━━━━━━━━━━━━━━━━━━━━━━━━━━\u001b[0m \u001b[32m2.1/2.1 MB\u001b[0m \u001b[31m12.1 MB/s\u001b[0m eta \u001b[36m0:00:00\u001b[0m\n",
            "\u001b[?25hInstalling collected packages: pip\n",
            "  Attempting uninstall: pip\n",
            "    Found existing installation: pip 23.1.2\n",
            "    Uninstalling pip-23.1.2:\n",
            "      Successfully uninstalled pip-23.1.2\n",
            "Successfully installed pip-24.0\n"
          ]
        }
      ],
      "source": [
        "!pip install --upgrade pip\n"
      ]
    },
    {
      "cell_type": "code",
      "source": [
        "!pip install tensorflow==2.12.0 tensorflow-text==2.12.0\n"
      ],
      "metadata": {
        "colab": {
          "base_uri": "https://localhost:8080/",
          "height": 1000
        },
        "id": "OSmFozM5At3p",
        "outputId": "c0715eb3-0cf2-4c1d-d26e-0e2afa3babec"
      },
      "execution_count": 2,
      "outputs": [
        {
          "output_type": "stream",
          "name": "stdout",
          "text": [
            "Collecting tensorflow==2.12.0\n",
            "  Downloading tensorflow-2.12.0-cp310-cp310-manylinux_2_17_x86_64.manylinux2014_x86_64.whl.metadata (3.4 kB)\n",
            "Collecting tensorflow-text==2.12.0\n",
            "  Downloading tensorflow_text-2.12.0-cp310-cp310-manylinux_2_17_x86_64.manylinux2014_x86_64.whl.metadata (2.0 kB)\n",
            "Requirement already satisfied: absl-py>=1.0.0 in /usr/local/lib/python3.10/dist-packages (from tensorflow==2.12.0) (1.4.0)\n",
            "Requirement already satisfied: astunparse>=1.6.0 in /usr/local/lib/python3.10/dist-packages (from tensorflow==2.12.0) (1.6.3)\n",
            "Requirement already satisfied: flatbuffers>=2.0 in /usr/local/lib/python3.10/dist-packages (from tensorflow==2.12.0) (24.3.25)\n",
            "Collecting gast<=0.4.0,>=0.2.1 (from tensorflow==2.12.0)\n",
            "  Downloading gast-0.4.0-py3-none-any.whl.metadata (1.1 kB)\n",
            "Requirement already satisfied: google-pasta>=0.1.1 in /usr/local/lib/python3.10/dist-packages (from tensorflow==2.12.0) (0.2.0)\n",
            "Requirement already satisfied: grpcio<2.0,>=1.24.3 in /usr/local/lib/python3.10/dist-packages (from tensorflow==2.12.0) (1.64.1)\n",
            "Requirement already satisfied: h5py>=2.9.0 in /usr/local/lib/python3.10/dist-packages (from tensorflow==2.12.0) (3.9.0)\n",
            "Requirement already satisfied: jax>=0.3.15 in /usr/local/lib/python3.10/dist-packages (from tensorflow==2.12.0) (0.4.26)\n",
            "Collecting keras<2.13,>=2.12.0 (from tensorflow==2.12.0)\n",
            "  Downloading keras-2.12.0-py2.py3-none-any.whl.metadata (1.4 kB)\n",
            "Requirement already satisfied: libclang>=13.0.0 in /usr/local/lib/python3.10/dist-packages (from tensorflow==2.12.0) (18.1.1)\n",
            "Collecting numpy<1.24,>=1.22 (from tensorflow==2.12.0)\n",
            "  Downloading numpy-1.23.5-cp310-cp310-manylinux_2_17_x86_64.manylinux2014_x86_64.whl.metadata (2.3 kB)\n",
            "Requirement already satisfied: opt-einsum>=2.3.2 in /usr/local/lib/python3.10/dist-packages (from tensorflow==2.12.0) (3.3.0)\n",
            "Requirement already satisfied: packaging in /usr/local/lib/python3.10/dist-packages (from tensorflow==2.12.0) (24.1)\n",
            "Requirement already satisfied: protobuf!=4.21.0,!=4.21.1,!=4.21.2,!=4.21.3,!=4.21.4,!=4.21.5,<5.0.0dev,>=3.20.3 in /usr/local/lib/python3.10/dist-packages (from tensorflow==2.12.0) (3.20.3)\n",
            "Requirement already satisfied: setuptools in /usr/local/lib/python3.10/dist-packages (from tensorflow==2.12.0) (67.7.2)\n",
            "Requirement already satisfied: six>=1.12.0 in /usr/local/lib/python3.10/dist-packages (from tensorflow==2.12.0) (1.16.0)\n",
            "Collecting tensorboard<2.13,>=2.12 (from tensorflow==2.12.0)\n",
            "  Downloading tensorboard-2.12.3-py3-none-any.whl.metadata (1.8 kB)\n",
            "Collecting tensorflow-estimator<2.13,>=2.12.0 (from tensorflow==2.12.0)\n",
            "  Downloading tensorflow_estimator-2.12.0-py2.py3-none-any.whl.metadata (1.3 kB)\n",
            "Requirement already satisfied: termcolor>=1.1.0 in /usr/local/lib/python3.10/dist-packages (from tensorflow==2.12.0) (2.4.0)\n",
            "Requirement already satisfied: typing-extensions>=3.6.6 in /usr/local/lib/python3.10/dist-packages (from tensorflow==2.12.0) (4.12.2)\n",
            "Requirement already satisfied: wrapt<1.15,>=1.11.0 in /usr/local/lib/python3.10/dist-packages (from tensorflow==2.12.0) (1.14.1)\n",
            "Requirement already satisfied: tensorflow-io-gcs-filesystem>=0.23.1 in /usr/local/lib/python3.10/dist-packages (from tensorflow==2.12.0) (0.37.0)\n",
            "Requirement already satisfied: tensorflow-hub>=0.8.0 in /usr/local/lib/python3.10/dist-packages (from tensorflow-text==2.12.0) (0.16.1)\n",
            "Requirement already satisfied: wheel<1.0,>=0.23.0 in /usr/local/lib/python3.10/dist-packages (from astunparse>=1.6.0->tensorflow==2.12.0) (0.43.0)\n",
            "Requirement already satisfied: ml-dtypes>=0.2.0 in /usr/local/lib/python3.10/dist-packages (from jax>=0.3.15->tensorflow==2.12.0) (0.2.0)\n",
            "Requirement already satisfied: scipy>=1.9 in /usr/local/lib/python3.10/dist-packages (from jax>=0.3.15->tensorflow==2.12.0) (1.11.4)\n",
            "Requirement already satisfied: google-auth<3,>=1.6.3 in /usr/local/lib/python3.10/dist-packages (from tensorboard<2.13,>=2.12->tensorflow==2.12.0) (2.27.0)\n",
            "Collecting google-auth-oauthlib<1.1,>=0.5 (from tensorboard<2.13,>=2.12->tensorflow==2.12.0)\n",
            "  Downloading google_auth_oauthlib-1.0.0-py2.py3-none-any.whl.metadata (2.7 kB)\n",
            "Requirement already satisfied: markdown>=2.6.8 in /usr/local/lib/python3.10/dist-packages (from tensorboard<2.13,>=2.12->tensorflow==2.12.0) (3.6)\n",
            "Requirement already satisfied: requests<3,>=2.21.0 in /usr/local/lib/python3.10/dist-packages (from tensorboard<2.13,>=2.12->tensorflow==2.12.0) (2.31.0)\n",
            "Requirement already satisfied: tensorboard-data-server<0.8.0,>=0.7.0 in /usr/local/lib/python3.10/dist-packages (from tensorboard<2.13,>=2.12->tensorflow==2.12.0) (0.7.2)\n",
            "Requirement already satisfied: werkzeug>=1.0.1 in /usr/local/lib/python3.10/dist-packages (from tensorboard<2.13,>=2.12->tensorflow==2.12.0) (3.0.3)\n",
            "Requirement already satisfied: tf-keras>=2.14.1 in /usr/local/lib/python3.10/dist-packages (from tensorflow-hub>=0.8.0->tensorflow-text==2.12.0) (2.15.1)\n",
            "Requirement already satisfied: cachetools<6.0,>=2.0.0 in /usr/local/lib/python3.10/dist-packages (from google-auth<3,>=1.6.3->tensorboard<2.13,>=2.12->tensorflow==2.12.0) (5.3.3)\n",
            "Requirement already satisfied: pyasn1-modules>=0.2.1 in /usr/local/lib/python3.10/dist-packages (from google-auth<3,>=1.6.3->tensorboard<2.13,>=2.12->tensorflow==2.12.0) (0.4.0)\n",
            "Requirement already satisfied: rsa<5,>=3.1.4 in /usr/local/lib/python3.10/dist-packages (from google-auth<3,>=1.6.3->tensorboard<2.13,>=2.12->tensorflow==2.12.0) (4.9)\n",
            "Requirement already satisfied: requests-oauthlib>=0.7.0 in /usr/local/lib/python3.10/dist-packages (from google-auth-oauthlib<1.1,>=0.5->tensorboard<2.13,>=2.12->tensorflow==2.12.0) (1.3.1)\n",
            "Requirement already satisfied: charset-normalizer<4,>=2 in /usr/local/lib/python3.10/dist-packages (from requests<3,>=2.21.0->tensorboard<2.13,>=2.12->tensorflow==2.12.0) (3.3.2)\n",
            "Requirement already satisfied: idna<4,>=2.5 in /usr/local/lib/python3.10/dist-packages (from requests<3,>=2.21.0->tensorboard<2.13,>=2.12->tensorflow==2.12.0) (3.7)\n",
            "Requirement already satisfied: urllib3<3,>=1.21.1 in /usr/local/lib/python3.10/dist-packages (from requests<3,>=2.21.0->tensorboard<2.13,>=2.12->tensorflow==2.12.0) (2.0.7)\n",
            "Requirement already satisfied: certifi>=2017.4.17 in /usr/local/lib/python3.10/dist-packages (from requests<3,>=2.21.0->tensorboard<2.13,>=2.12->tensorflow==2.12.0) (2024.6.2)\n",
            "INFO: pip is looking at multiple versions of tf-keras to determine which version is compatible with other requirements. This could take a while.\n",
            "Collecting tf-keras>=2.14.1 (from tensorflow-hub>=0.8.0->tensorflow-text==2.12.0)\n",
            "  Downloading tf_keras-2.16.0-py3-none-any.whl.metadata (1.6 kB)\n",
            "  Downloading tf_keras-2.15.0-py3-none-any.whl.metadata (1.6 kB)\n",
            "Requirement already satisfied: MarkupSafe>=2.1.1 in /usr/local/lib/python3.10/dist-packages (from werkzeug>=1.0.1->tensorboard<2.13,>=2.12->tensorflow==2.12.0) (2.1.5)\n",
            "Requirement already satisfied: pyasn1<0.7.0,>=0.4.6 in /usr/local/lib/python3.10/dist-packages (from pyasn1-modules>=0.2.1->google-auth<3,>=1.6.3->tensorboard<2.13,>=2.12->tensorflow==2.12.0) (0.6.0)\n",
            "Requirement already satisfied: oauthlib>=3.0.0 in /usr/local/lib/python3.10/dist-packages (from requests-oauthlib>=0.7.0->google-auth-oauthlib<1.1,>=0.5->tensorboard<2.13,>=2.12->tensorflow==2.12.0) (3.2.2)\n",
            "Downloading tensorflow-2.12.0-cp310-cp310-manylinux_2_17_x86_64.manylinux2014_x86_64.whl (585.9 MB)\n",
            "\u001b[2K   \u001b[90m━━━━━━━━━━━━━━━━━━━━━━━━━━━━━━━━━━━━━━━━\u001b[0m \u001b[32m585.9/585.9 MB\u001b[0m \u001b[31m3.1 MB/s\u001b[0m eta \u001b[36m0:00:00\u001b[0m\n",
            "\u001b[?25hDownloading tensorflow_text-2.12.0-cp310-cp310-manylinux_2_17_x86_64.manylinux2014_x86_64.whl (6.0 MB)\n",
            "\u001b[2K   \u001b[90m━━━━━━━━━━━━━━━━━━━━━━━━━━━━━━━━━━━━━━━━\u001b[0m \u001b[32m6.0/6.0 MB\u001b[0m \u001b[31m19.3 MB/s\u001b[0m eta \u001b[36m0:00:00\u001b[0m\n",
            "\u001b[?25hDownloading gast-0.4.0-py3-none-any.whl (9.8 kB)\n",
            "Downloading keras-2.12.0-py2.py3-none-any.whl (1.7 MB)\n",
            "\u001b[2K   \u001b[90m━━━━━━━━━━━━━━━━━━━━━━━━━━━━━━━━━━━━━━━━\u001b[0m \u001b[32m1.7/1.7 MB\u001b[0m \u001b[31m36.8 MB/s\u001b[0m eta \u001b[36m0:00:00\u001b[0m\n",
            "\u001b[?25hDownloading numpy-1.23.5-cp310-cp310-manylinux_2_17_x86_64.manylinux2014_x86_64.whl (17.1 MB)\n",
            "\u001b[2K   \u001b[90m━━━━━━━━━━━━━━━━━━━━━━━━━━━━━━━━━━━━━━━━\u001b[0m \u001b[32m17.1/17.1 MB\u001b[0m \u001b[31m51.2 MB/s\u001b[0m eta \u001b[36m0:00:00\u001b[0m\n",
            "\u001b[?25hDownloading tensorboard-2.12.3-py3-none-any.whl (5.6 MB)\n",
            "\u001b[2K   \u001b[90m━━━━━━━━━━━━━━━━━━━━━━━━━━━━━━━━━━━━━━━━\u001b[0m \u001b[32m5.6/5.6 MB\u001b[0m \u001b[31m60.5 MB/s\u001b[0m eta \u001b[36m0:00:00\u001b[0m\n",
            "\u001b[?25hDownloading tensorflow_estimator-2.12.0-py2.py3-none-any.whl (440 kB)\n",
            "\u001b[2K   \u001b[90m━━━━━━━━━━━━━━━━━━━━━━━━━━━━━━━━━━━━━━━━\u001b[0m \u001b[32m440.7/440.7 kB\u001b[0m \u001b[31m26.1 MB/s\u001b[0m eta \u001b[36m0:00:00\u001b[0m\n",
            "\u001b[?25hDownloading google_auth_oauthlib-1.0.0-py2.py3-none-any.whl (18 kB)\n",
            "Downloading tf_keras-2.15.0-py3-none-any.whl (1.7 MB)\n",
            "\u001b[2K   \u001b[90m━━━━━━━━━━━━━━━━━━━━━━━━━━━━━━━━━━━━━━━━\u001b[0m \u001b[32m1.7/1.7 MB\u001b[0m \u001b[31m42.7 MB/s\u001b[0m eta \u001b[36m0:00:00\u001b[0m\n",
            "\u001b[?25hInstalling collected packages: tf-keras, tensorflow-estimator, numpy, keras, gast, google-auth-oauthlib, tensorboard, tensorflow, tensorflow-text\n",
            "  Attempting uninstall: tf-keras\n",
            "    Found existing installation: tf_keras 2.15.1\n",
            "    Uninstalling tf_keras-2.15.1:\n",
            "      Successfully uninstalled tf_keras-2.15.1\n",
            "  Attempting uninstall: tensorflow-estimator\n",
            "    Found existing installation: tensorflow-estimator 2.15.0\n",
            "    Uninstalling tensorflow-estimator-2.15.0:\n",
            "      Successfully uninstalled tensorflow-estimator-2.15.0\n",
            "  Attempting uninstall: numpy\n",
            "    Found existing installation: numpy 1.25.2\n",
            "    Uninstalling numpy-1.25.2:\n",
            "      Successfully uninstalled numpy-1.25.2\n",
            "  Attempting uninstall: keras\n",
            "    Found existing installation: keras 2.15.0\n",
            "    Uninstalling keras-2.15.0:\n",
            "      Successfully uninstalled keras-2.15.0\n",
            "  Attempting uninstall: gast\n",
            "    Found existing installation: gast 0.5.4\n",
            "    Uninstalling gast-0.5.4:\n",
            "      Successfully uninstalled gast-0.5.4\n",
            "  Attempting uninstall: google-auth-oauthlib\n",
            "    Found existing installation: google-auth-oauthlib 1.2.0\n",
            "    Uninstalling google-auth-oauthlib-1.2.0:\n",
            "      Successfully uninstalled google-auth-oauthlib-1.2.0\n",
            "  Attempting uninstall: tensorboard\n",
            "    Found existing installation: tensorboard 2.15.2\n",
            "    Uninstalling tensorboard-2.15.2:\n",
            "      Successfully uninstalled tensorboard-2.15.2\n",
            "  Attempting uninstall: tensorflow\n",
            "    Found existing installation: tensorflow 2.15.0\n",
            "    Uninstalling tensorflow-2.15.0:\n",
            "      Successfully uninstalled tensorflow-2.15.0\n",
            "\u001b[31mERROR: pip's dependency resolver does not currently take into account all the packages that are installed. This behaviour is the source of the following dependency conflicts.\n",
            "chex 0.1.86 requires numpy>=1.24.1, but you have numpy 1.23.5 which is incompatible.\n",
            "pandas-stubs 2.0.3.230814 requires numpy>=1.25.0; python_version >= \"3.9\", but you have numpy 1.23.5 which is incompatible.\u001b[0m\u001b[31m\n",
            "\u001b[0mSuccessfully installed gast-0.4.0 google-auth-oauthlib-1.0.0 keras-2.12.0 numpy-1.23.5 tensorboard-2.12.3 tensorflow-2.12.0 tensorflow-estimator-2.12.0 tensorflow-text-2.12.0 tf-keras-2.15.0\n",
            "\u001b[33mWARNING: Running pip as the 'root' user can result in broken permissions and conflicting behaviour with the system package manager. It is recommended to use a virtual environment instead: https://pip.pypa.io/warnings/venv\u001b[0m\u001b[33m\n",
            "\u001b[0m"
          ]
        },
        {
          "output_type": "display_data",
          "data": {
            "application/vnd.colab-display-data+json": {
              "pip_warning": {
                "packages": [
                  "numpy"
                ]
              },
              "id": "5a513d7fe17b48528a03b56714fd79de"
            }
          },
          "metadata": {}
        }
      ]
    },
    {
      "cell_type": "code",
      "source": [
        "import tensorflow_hub as hub\n",
        "import tensorflow_text as text"
      ],
      "metadata": {
        "id": "5ywLgwA8A1GY"
      },
      "execution_count": 3,
      "outputs": []
    },
    {
      "cell_type": "code",
      "source": [
        "preprocess_url = \"https://tfhub.dev/tensorflow/bert_en_uncased_preprocess/3\"\n",
        "encoder_url = \"https://tfhub.dev/tensorflow/bert_en_uncased_L-12_H-768_A-12/4\""
      ],
      "metadata": {
        "id": "-vM8cTmJBiIR"
      },
      "execution_count": 4,
      "outputs": []
    },
    {
      "cell_type": "code",
      "source": [
        "bert_preprocess_model = hub.KerasLayer(\"https://tfhub.dev/tensorflow/bert_en_uncased_preprocess/3\")"
      ],
      "metadata": {
        "id": "8RJ8kEoFBmXZ"
      },
      "execution_count": 6,
      "outputs": []
    },
    {
      "cell_type": "code",
      "source": [
        "text_test = ['lovely dish','ML is a field of study in artificial intelligence']\n",
        "text_preprocessed = bert_preprocess_model(text_test)\n",
        "text_preprocessed.keys()"
      ],
      "metadata": {
        "colab": {
          "base_uri": "https://localhost:8080/"
        },
        "id": "W_m8IvWXB7c4",
        "outputId": "778cc963-e7fb-4277-d46e-0fbf3fb824e7"
      },
      "execution_count": 7,
      "outputs": [
        {
          "output_type": "execute_result",
          "data": {
            "text/plain": [
              "dict_keys(['input_word_ids', 'input_type_ids', 'input_mask'])"
            ]
          },
          "metadata": {},
          "execution_count": 7
        }
      ]
    },
    {
      "cell_type": "code",
      "source": [
        "text_preprocessed['input_mask']"
      ],
      "metadata": {
        "colab": {
          "base_uri": "https://localhost:8080/"
        },
        "id": "_OwP_26pCYS_",
        "outputId": "480dc9ae-9fac-4e6a-8da5-66ec732c3f63"
      },
      "execution_count": 8,
      "outputs": [
        {
          "output_type": "execute_result",
          "data": {
            "text/plain": [
              "<tf.Tensor: shape=(2, 128), dtype=int32, numpy=\n",
              "array([[1, 1, 1, 1, 0, 0, 0, 0, 0, 0, 0, 0, 0, 0, 0, 0, 0, 0, 0, 0, 0, 0,\n",
              "        0, 0, 0, 0, 0, 0, 0, 0, 0, 0, 0, 0, 0, 0, 0, 0, 0, 0, 0, 0, 0, 0,\n",
              "        0, 0, 0, 0, 0, 0, 0, 0, 0, 0, 0, 0, 0, 0, 0, 0, 0, 0, 0, 0, 0, 0,\n",
              "        0, 0, 0, 0, 0, 0, 0, 0, 0, 0, 0, 0, 0, 0, 0, 0, 0, 0, 0, 0, 0, 0,\n",
              "        0, 0, 0, 0, 0, 0, 0, 0, 0, 0, 0, 0, 0, 0, 0, 0, 0, 0, 0, 0, 0, 0,\n",
              "        0, 0, 0, 0, 0, 0, 0, 0, 0, 0, 0, 0, 0, 0, 0, 0, 0, 0],\n",
              "       [1, 1, 1, 1, 1, 1, 1, 1, 1, 1, 1, 0, 0, 0, 0, 0, 0, 0, 0, 0, 0, 0,\n",
              "        0, 0, 0, 0, 0, 0, 0, 0, 0, 0, 0, 0, 0, 0, 0, 0, 0, 0, 0, 0, 0, 0,\n",
              "        0, 0, 0, 0, 0, 0, 0, 0, 0, 0, 0, 0, 0, 0, 0, 0, 0, 0, 0, 0, 0, 0,\n",
              "        0, 0, 0, 0, 0, 0, 0, 0, 0, 0, 0, 0, 0, 0, 0, 0, 0, 0, 0, 0, 0, 0,\n",
              "        0, 0, 0, 0, 0, 0, 0, 0, 0, 0, 0, 0, 0, 0, 0, 0, 0, 0, 0, 0, 0, 0,\n",
              "        0, 0, 0, 0, 0, 0, 0, 0, 0, 0, 0, 0, 0, 0, 0, 0, 0, 0]],\n",
              "      dtype=int32)>"
            ]
          },
          "metadata": {},
          "execution_count": 8
        }
      ]
    },
    {
      "cell_type": "code",
      "source": [
        "text_preprocessed['input_type_ids']"
      ],
      "metadata": {
        "colab": {
          "base_uri": "https://localhost:8080/"
        },
        "id": "XeI9VsnJCk50",
        "outputId": "e3c12f61-81de-46cd-f8b6-dfb2d6891894"
      },
      "execution_count": 9,
      "outputs": [
        {
          "output_type": "execute_result",
          "data": {
            "text/plain": [
              "<tf.Tensor: shape=(2, 128), dtype=int32, numpy=\n",
              "array([[0, 0, 0, 0, 0, 0, 0, 0, 0, 0, 0, 0, 0, 0, 0, 0, 0, 0, 0, 0, 0, 0,\n",
              "        0, 0, 0, 0, 0, 0, 0, 0, 0, 0, 0, 0, 0, 0, 0, 0, 0, 0, 0, 0, 0, 0,\n",
              "        0, 0, 0, 0, 0, 0, 0, 0, 0, 0, 0, 0, 0, 0, 0, 0, 0, 0, 0, 0, 0, 0,\n",
              "        0, 0, 0, 0, 0, 0, 0, 0, 0, 0, 0, 0, 0, 0, 0, 0, 0, 0, 0, 0, 0, 0,\n",
              "        0, 0, 0, 0, 0, 0, 0, 0, 0, 0, 0, 0, 0, 0, 0, 0, 0, 0, 0, 0, 0, 0,\n",
              "        0, 0, 0, 0, 0, 0, 0, 0, 0, 0, 0, 0, 0, 0, 0, 0, 0, 0],\n",
              "       [0, 0, 0, 0, 0, 0, 0, 0, 0, 0, 0, 0, 0, 0, 0, 0, 0, 0, 0, 0, 0, 0,\n",
              "        0, 0, 0, 0, 0, 0, 0, 0, 0, 0, 0, 0, 0, 0, 0, 0, 0, 0, 0, 0, 0, 0,\n",
              "        0, 0, 0, 0, 0, 0, 0, 0, 0, 0, 0, 0, 0, 0, 0, 0, 0, 0, 0, 0, 0, 0,\n",
              "        0, 0, 0, 0, 0, 0, 0, 0, 0, 0, 0, 0, 0, 0, 0, 0, 0, 0, 0, 0, 0, 0,\n",
              "        0, 0, 0, 0, 0, 0, 0, 0, 0, 0, 0, 0, 0, 0, 0, 0, 0, 0, 0, 0, 0, 0,\n",
              "        0, 0, 0, 0, 0, 0, 0, 0, 0, 0, 0, 0, 0, 0, 0, 0, 0, 0]],\n",
              "      dtype=int32)>"
            ]
          },
          "metadata": {},
          "execution_count": 9
        }
      ]
    },
    {
      "cell_type": "code",
      "source": [
        "text_preprocessed['input_word_ids']"
      ],
      "metadata": {
        "colab": {
          "base_uri": "https://localhost:8080/"
        },
        "id": "OtXJGiziCoqW",
        "outputId": "9322900c-460b-4750-aad9-c6798782e4d7"
      },
      "execution_count": 10,
      "outputs": [
        {
          "output_type": "execute_result",
          "data": {
            "text/plain": [
              "<tf.Tensor: shape=(2, 128), dtype=int32, numpy=\n",
              "array([[  101,  8403,  9841,   102,     0,     0,     0,     0,     0,\n",
              "            0,     0,     0,     0,     0,     0,     0,     0,     0,\n",
              "            0,     0,     0,     0,     0,     0,     0,     0,     0,\n",
              "            0,     0,     0,     0,     0,     0,     0,     0,     0,\n",
              "            0,     0,     0,     0,     0,     0,     0,     0,     0,\n",
              "            0,     0,     0,     0,     0,     0,     0,     0,     0,\n",
              "            0,     0,     0,     0,     0,     0,     0,     0,     0,\n",
              "            0,     0,     0,     0,     0,     0,     0,     0,     0,\n",
              "            0,     0,     0,     0,     0,     0,     0,     0,     0,\n",
              "            0,     0,     0,     0,     0,     0,     0,     0,     0,\n",
              "            0,     0,     0,     0,     0,     0,     0,     0,     0,\n",
              "            0,     0,     0,     0,     0,     0,     0,     0,     0,\n",
              "            0,     0,     0,     0,     0,     0,     0,     0,     0,\n",
              "            0,     0,     0,     0,     0,     0,     0,     0,     0,\n",
              "            0,     0],\n",
              "       [  101, 19875,  2003,  1037,  2492,  1997,  2817,  1999,  7976,\n",
              "         4454,   102,     0,     0,     0,     0,     0,     0,     0,\n",
              "            0,     0,     0,     0,     0,     0,     0,     0,     0,\n",
              "            0,     0,     0,     0,     0,     0,     0,     0,     0,\n",
              "            0,     0,     0,     0,     0,     0,     0,     0,     0,\n",
              "            0,     0,     0,     0,     0,     0,     0,     0,     0,\n",
              "            0,     0,     0,     0,     0,     0,     0,     0,     0,\n",
              "            0,     0,     0,     0,     0,     0,     0,     0,     0,\n",
              "            0,     0,     0,     0,     0,     0,     0,     0,     0,\n",
              "            0,     0,     0,     0,     0,     0,     0,     0,     0,\n",
              "            0,     0,     0,     0,     0,     0,     0,     0,     0,\n",
              "            0,     0,     0,     0,     0,     0,     0,     0,     0,\n",
              "            0,     0,     0,     0,     0,     0,     0,     0,     0,\n",
              "            0,     0,     0,     0,     0,     0,     0,     0,     0,\n",
              "            0,     0]], dtype=int32)>"
            ]
          },
          "metadata": {},
          "execution_count": 10
        }
      ]
    },
    {
      "cell_type": "code",
      "source": [
        "bert_encoder_model = hub.KerasLayer(\"https://tfhub.dev/tensorflow/bert_en_uncased_L-12_H-768_A-12/4\")"
      ],
      "metadata": {
        "id": "9nPVavZDCwH-"
      },
      "execution_count": 12,
      "outputs": []
    },
    {
      "cell_type": "code",
      "source": [
        "bert_results = bert_encoder_model(text_preprocessed)"
      ],
      "metadata": {
        "id": "a2iBGktwC8-4"
      },
      "execution_count": 13,
      "outputs": []
    },
    {
      "cell_type": "code",
      "source": [
        "bert_results.keys()"
      ],
      "metadata": {
        "colab": {
          "base_uri": "https://localhost:8080/"
        },
        "id": "trFTR7pKDKTJ",
        "outputId": "a866a1ac-9c4e-40a1-e7a3-7ace87168fa0"
      },
      "execution_count": 14,
      "outputs": [
        {
          "output_type": "execute_result",
          "data": {
            "text/plain": [
              "dict_keys(['sequence_output', 'default', 'pooled_output', 'encoder_outputs'])"
            ]
          },
          "metadata": {},
          "execution_count": 14
        }
      ]
    },
    {
      "cell_type": "code",
      "source": [
        "bert_results['sequence_output']"
      ],
      "metadata": {
        "colab": {
          "base_uri": "https://localhost:8080/"
        },
        "id": "TNVhVRBiDT1a",
        "outputId": "01b00c56-25bb-4160-86eb-b73975ad3f0d"
      },
      "execution_count": 15,
      "outputs": [
        {
          "output_type": "execute_result",
          "data": {
            "text/plain": [
              "<tf.Tensor: shape=(2, 128, 768), dtype=float32, numpy=\n",
              "array([[[-0.27227864,  0.14789538, -0.10787872, ..., -0.06459264,\n",
              "         -0.044081  ,  0.0855126 ],\n",
              "        [-0.17380589, -0.33905694,  0.35551554, ..., -0.21042913,\n",
              "         -0.13088658, -0.47768098],\n",
              "        [-0.60513973, -0.2331337 , -0.54020417, ...,  0.32258275,\n",
              "          0.21910168,  0.03559504],\n",
              "        ...,\n",
              "        [-0.3015816 ,  0.17089853,  0.5174818 , ..., -0.09194057,\n",
              "         -0.09995969, -0.0244975 ],\n",
              "        [-0.7234544 ,  0.04594657,  0.32620966, ...,  0.13991778,\n",
              "         -0.16662094, -0.04399176],\n",
              "        [-0.36289176,  0.08378661,  0.53451556, ..., -0.02569456,\n",
              "         -0.1366407 , -0.0383386 ]],\n",
              "\n",
              "       [[-0.12189257, -0.5308182 , -0.22925293, ...,  0.0089344 ,\n",
              "         -0.2721612 ,  0.75005615],\n",
              "        [ 0.36247063, -0.1123523 ,  0.10693729, ..., -0.2407964 ,\n",
              "          0.04706728,  0.75156343],\n",
              "        [ 0.05897539, -0.3168582 , -0.60635376, ..., -0.17402111,\n",
              "         -0.3189447 ,  0.84345365],\n",
              "        ...,\n",
              "        [-0.14425379, -0.3272672 ,  0.48768467, ..., -0.18620336,\n",
              "         -0.46242765,  0.5747878 ],\n",
              "        [-0.25971302, -0.3285545 ,  0.3727669 , ..., -0.13124228,\n",
              "         -0.4421956 ,  0.6204784 ],\n",
              "        [-0.22949073, -0.3301329 ,  0.45565203, ..., -0.08471582,\n",
              "         -0.40470445,  0.5803422 ]]], dtype=float32)>"
            ]
          },
          "metadata": {},
          "execution_count": 15
        }
      ]
    },
    {
      "cell_type": "code",
      "source": [
        "bert_results['pooled_output']"
      ],
      "metadata": {
        "colab": {
          "base_uri": "https://localhost:8080/"
        },
        "id": "CPTTREKkDWOI",
        "outputId": "3648e59d-74d5-4330-a4cd-f89a7c252d88"
      },
      "execution_count": 16,
      "outputs": [
        {
          "output_type": "execute_result",
          "data": {
            "text/plain": [
              "<tf.Tensor: shape=(2, 768), dtype=float32, numpy=\n",
              "array([[-0.72342426, -0.0922787 ,  0.70430344, ...,  0.55116916,\n",
              "        -0.50812846,  0.77186644],\n",
              "       [-0.8013169 , -0.02922406,  0.01752341, ..., -0.37740436,\n",
              "        -0.38507536,  0.6313225 ]], dtype=float32)>"
            ]
          },
          "metadata": {},
          "execution_count": 16
        }
      ]
    },
    {
      "cell_type": "code",
      "source": [
        "len(bert_results['encoder_outputs'])"
      ],
      "metadata": {
        "colab": {
          "base_uri": "https://localhost:8080/"
        },
        "id": "Jrxg6C8lDcvR",
        "outputId": "592fc6b3-dcd1-4611-f0b3-47608ed1454b"
      },
      "execution_count": 17,
      "outputs": [
        {
          "output_type": "execute_result",
          "data": {
            "text/plain": [
              "12"
            ]
          },
          "metadata": {},
          "execution_count": 17
        }
      ]
    },
    {
      "cell_type": "code",
      "source": [
        "bert_results['encoder_outputs'][-1] == bert_results['sequence_output']"
      ],
      "metadata": {
        "colab": {
          "base_uri": "https://localhost:8080/"
        },
        "id": "J5GdG46cDeh1",
        "outputId": "9b21c630-04a0-4547-889a-b4685ef5a3a5"
      },
      "execution_count": 18,
      "outputs": [
        {
          "output_type": "execute_result",
          "data": {
            "text/plain": [
              "<tf.Tensor: shape=(2, 128, 768), dtype=bool, numpy=\n",
              "array([[[ True,  True,  True, ...,  True,  True,  True],\n",
              "        [ True,  True,  True, ...,  True,  True,  True],\n",
              "        [ True,  True,  True, ...,  True,  True,  True],\n",
              "        ...,\n",
              "        [ True,  True,  True, ...,  True,  True,  True],\n",
              "        [ True,  True,  True, ...,  True,  True,  True],\n",
              "        [ True,  True,  True, ...,  True,  True,  True]],\n",
              "\n",
              "       [[ True,  True,  True, ...,  True,  True,  True],\n",
              "        [ True,  True,  True, ...,  True,  True,  True],\n",
              "        [ True,  True,  True, ...,  True,  True,  True],\n",
              "        ...,\n",
              "        [ True,  True,  True, ...,  True,  True,  True],\n",
              "        [ True,  True,  True, ...,  True,  True,  True],\n",
              "        [ True,  True,  True, ...,  True,  True,  True]]])>"
            ]
          },
          "metadata": {},
          "execution_count": 18
        }
      ]
    },
    {
      "cell_type": "code",
      "source": [
        "bert_results['encoder_outputs']"
      ],
      "metadata": {
        "colab": {
          "base_uri": "https://localhost:8080/"
        },
        "id": "DBNP3QLyDg-F",
        "outputId": "066e259e-7653-43a8-82a9-c25ce732e511"
      },
      "execution_count": 19,
      "outputs": [
        {
          "output_type": "execute_result",
          "data": {
            "text/plain": [
              "[<tf.Tensor: shape=(2, 128, 768), dtype=float32, numpy=\n",
              " array([[[ 0.17968729,  0.08225346, -0.07076006, ..., -0.03808751,\n",
              "           0.09931137, -0.00646231],\n",
              "         [ 0.8713676 ,  0.40154928,  0.8485506 , ...,  0.36764145,\n",
              "           0.24138485, -0.7685646 ],\n",
              "         [ 0.50170505, -1.1530564 ,  0.53525984, ...,  0.50534624,\n",
              "           1.4213988 , -0.4504579 ],\n",
              "         ...,\n",
              "         [-0.02303137, -0.25050426,  0.7242775 , ...,  0.41698584,\n",
              "          -0.18718319, -0.0676969 ],\n",
              "         [-0.12744173, -0.28369573,  0.59316045, ...,  0.46747607,\n",
              "          -0.09044249, -0.17009002],\n",
              "         [ 0.03902074, -0.1812802 ,  0.589591  , ...,  0.77589756,\n",
              "          -0.40304923, -0.23001061]],\n",
              " \n",
              "        [[ 0.19495392,  0.02139859, -0.03538729, ...,  0.00923466,\n",
              "           0.04195203,  0.09913117],\n",
              "         [ 0.5814318 , -0.17527805, -1.5242677 , ..., -0.53995293,\n",
              "           0.51022035, -0.12437263],\n",
              "         [-0.98256195, -0.22861755, -0.4891471 , ..., -0.15071836,\n",
              "           0.56362116,  0.53604686],\n",
              "         ...,\n",
              "         [ 0.08807724, -0.26917952,  0.40910852, ...,  0.08755238,\n",
              "          -0.52278495,  0.13782889],\n",
              "         [-0.01674876, -0.3045771 ,  0.3149589 , ...,  0.10573618,\n",
              "          -0.4570107 ,  0.06779041],\n",
              "         [ 0.12557915, -0.25750095,  0.36799905, ...,  0.449445  ,\n",
              "          -0.7588739 , -0.0169082 ]]], dtype=float32)>,\n",
              " <tf.Tensor: shape=(2, 128, 768), dtype=float32, numpy=\n",
              " array([[[ 0.11125324, -0.14688511, -0.1550991 , ...,  0.04058303,\n",
              "           0.10192411,  0.06922995],\n",
              "         [ 1.2005821 ,  0.5298883 ,  1.3295054 , ...,  0.60778826,\n",
              "          -0.1924257 , -0.9960394 ],\n",
              "         [ 0.34037116, -0.96783143,  0.57084984, ...,  0.38022906,\n",
              "           1.5055798 , -0.66611874],\n",
              "         ...,\n",
              "         [-0.20938493, -0.14288943,  0.56912714, ...,  0.9660695 ,\n",
              "          -0.4953806 , -0.18535928],\n",
              "         [-0.32891977, -0.12229781,  0.45036966, ...,  0.97784436,\n",
              "          -0.40758488, -0.22630867],\n",
              "         [-0.15918049, -0.05150025,  0.4385007 , ...,  1.1725672 ,\n",
              "          -0.61993974, -0.28331828]],\n",
              " \n",
              "        [[ 0.14237414, -0.2610528 , -0.23311213, ...,  0.11228198,\n",
              "           0.09311269,  0.021943  ],\n",
              "         [ 0.5207473 , -0.30373302, -1.7568674 , ..., -0.48859796,\n",
              "           0.8825525 , -0.3419019 ],\n",
              "         [-0.70238644, -0.21989267,  0.00417954, ..., -0.03111764,\n",
              "           0.4248278 ,  0.6342815 ],\n",
              "         ...,\n",
              "         [ 0.19116819, -0.45687294,  0.501538  , ...,  0.7127385 ,\n",
              "          -0.660341  , -0.01560808],\n",
              "         [ 0.03107031, -0.37771353,  0.45761013, ...,  0.74044424,\n",
              "          -0.6448909 , -0.059517  ],\n",
              "         [ 0.20658359, -0.50893503,  0.45061505, ...,  0.9128846 ,\n",
              "          -0.8709862 , -0.16558188]]], dtype=float32)>,\n",
              " <tf.Tensor: shape=(2, 128, 768), dtype=float32, numpy=\n",
              " array([[[ 0.03240107, -0.2175788 , -0.03961352, ...,  0.21098293,\n",
              "           0.06079911,  0.27350822],\n",
              "         [ 1.1407579 ,  0.21119161,  1.4581586 , ...,  0.2808645 ,\n",
              "          -0.8147509 , -1.0571089 ],\n",
              "         [ 0.10906606, -0.78722847,  0.4050496 , ...,  0.12539364,\n",
              "           0.6041669 , -0.6861431 ],\n",
              "         ...,\n",
              "         [-0.1608235 ,  0.0176523 ,  0.8917255 , ...,  1.0614245 ,\n",
              "          -0.13137645, -0.31803215],\n",
              "         [-0.5680738 ,  0.01323289,  0.8319068 , ...,  1.1179677 ,\n",
              "          -0.13083671, -0.35025585],\n",
              "         [-0.17229131,  0.06388687,  0.82262266, ...,  1.271851  ,\n",
              "          -0.29185727, -0.42535168]],\n",
              " \n",
              "        [[ 0.1719072 , -0.29784942, -0.14681315, ...,  0.07703054,\n",
              "           0.12481581,  0.15323004],\n",
              "         [ 0.77457005, -0.5106419 , -1.7110369 , ..., -0.87031275,\n",
              "           0.77236104,  0.01330426],\n",
              "         [-0.8776315 , -0.5352501 ,  0.03984847, ...,  0.16877171,\n",
              "           0.34592536,  0.5859011 ],\n",
              "         ...,\n",
              "         [ 0.13177761, -0.37875405,  0.5752875 , ...,  0.79971   ,\n",
              "          -0.16570415, -0.12087862],\n",
              "         [-0.02634925, -0.301165  ,  0.5052298 , ...,  0.85096395,\n",
              "          -0.18134077, -0.14071392],\n",
              "         [ 0.08916155, -0.46865493,  0.54474944, ...,  0.93762434,\n",
              "          -0.382082  , -0.25379005]]], dtype=float32)>,\n",
              " <tf.Tensor: shape=(2, 128, 768), dtype=float32, numpy=\n",
              " array([[[ 0.04000819, -0.15467283, -0.5008103 , ...,  0.40963286,\n",
              "          -0.04025056,  0.79296654],\n",
              "         [ 1.3091456 , -0.28701246,  1.2710912 , ...,  0.46537444,\n",
              "          -0.6420849 , -0.8819807 ],\n",
              "         [ 0.14710821, -1.082162  ,  0.1736    , ..., -0.1809366 ,\n",
              "           0.5126292 , -0.72135   ],\n",
              "         ...,\n",
              "         [-0.3044229 , -0.3390531 ,  1.1766641 , ...,  0.8583093 ,\n",
              "          -0.45103958, -0.33740336],\n",
              "         [-0.87400085, -0.56777424,  0.9558467 , ...,  0.8577242 ,\n",
              "          -0.52630603, -0.27663487],\n",
              "         [-0.3020857 , -0.37823653,  1.2441784 , ...,  1.0614529 ,\n",
              "          -0.5726729 , -0.38348082]],\n",
              " \n",
              "        [[ 0.29374015, -0.7100671 , -0.4259734 , ...,  0.22137046,\n",
              "          -0.05595102,  0.43815535],\n",
              "         [ 0.71649796, -0.6731764 , -1.4108145 , ..., -0.97936714,\n",
              "           0.26295635, -0.15487716],\n",
              "         [-0.90217763, -0.6479215 , -0.3069017 , ..., -0.34683308,\n",
              "           0.2084895 ,  0.79341906],\n",
              "         ...,\n",
              "         [ 0.05681086, -0.80994797,  0.65911245, ...,  0.5768831 ,\n",
              "          -0.651614  ,  0.12331548],\n",
              "         [-0.14201164, -0.76304436,  0.5654358 , ...,  0.6927815 ,\n",
              "          -0.6851978 ,  0.07708323],\n",
              "         [ 0.04396576, -0.9036778 ,  0.73138344, ...,  0.75904554,\n",
              "          -0.7574777 , -0.11780071]]], dtype=float32)>,\n",
              " <tf.Tensor: shape=(2, 128, 768), dtype=float32, numpy=\n",
              " array([[[-0.25274077, -0.12325396, -0.66104347, ...,  0.03419778,\n",
              "          -0.09130656,  0.80514294],\n",
              "         [ 0.87685895, -0.06182608,  1.1110445 , ...,  0.19326067,\n",
              "          -0.58090746, -0.5128447 ],\n",
              "         [ 0.2616767 , -0.8576603 ,  0.30403578, ..., -0.28385422,\n",
              "           0.11509344, -0.5780525 ],\n",
              "         ...,\n",
              "         [-0.27723438, -0.25042787,  1.5737379 , ...,  0.5463512 ,\n",
              "           0.05474135, -0.75020844],\n",
              "         [-0.8636541 , -0.0667513 ,  1.7476923 , ...,  0.50424945,\n",
              "          -0.30826974, -0.60241437],\n",
              "         [-0.35563043, -0.2624628 ,  1.6127144 , ...,  0.6775279 ,\n",
              "          -0.17570636, -0.8375842 ]],\n",
              " \n",
              "        [[-0.06290494, -0.90148216, -0.61563367, ..., -0.04254409,\n",
              "           0.09636068,  0.64637786],\n",
              "         [ 0.892524  , -0.76996243, -1.423097  , ..., -0.8166832 ,\n",
              "           0.2793828 , -0.29445058],\n",
              "         [-0.41011044, -0.48810136, -0.6427765 , ..., -0.15842952,\n",
              "           0.14222182,  1.1368995 ],\n",
              "         ...,\n",
              "         [ 0.18468681, -0.50132185,  0.1575109 , ..., -0.06599484,\n",
              "          -0.28350082,  0.01378626],\n",
              "         [ 0.00924537, -0.44813803,  0.01373607, ...,  0.0468971 ,\n",
              "          -0.44824618, -0.01775893],\n",
              "         [ 0.12496407, -0.599724  ,  0.31712642, ...,  0.187691  ,\n",
              "          -0.46916693, -0.19904089]]], dtype=float32)>,\n",
              " <tf.Tensor: shape=(2, 128, 768), dtype=float32, numpy=\n",
              " array([[[-0.2982144 , -0.26239   , -0.42798147, ..., -0.12276268,\n",
              "          -0.15345186,  0.8843148 ],\n",
              "         [ 1.3109095 ,  0.13569055,  1.1706262 , ...,  0.21619555,\n",
              "          -0.5339815 , -1.0184565 ],\n",
              "         [ 0.21564952, -0.38253102,  0.3050101 , ..., -0.20279968,\n",
              "           0.38204226, -0.5687736 ],\n",
              "         ...,\n",
              "         [-0.26796946,  0.17550007,  1.6103559 , ...,  0.6804397 ,\n",
              "          -0.19452621, -0.7845362 ],\n",
              "         [-0.94754326,  0.21562022,  1.6341381 , ...,  0.585802  ,\n",
              "          -0.4761536 , -0.49815297],\n",
              "         [-0.42242867,  0.09800591,  1.6732249 , ...,  0.7728484 ,\n",
              "          -0.3522525 , -0.84829026]],\n",
              " \n",
              "        [[-0.10207582, -0.993042  , -0.6266377 , ..., -0.17819953,\n",
              "           0.40671852,  0.5091723 ],\n",
              "         [ 0.95214045, -0.53064036, -1.4199848 , ..., -0.3789009 ,\n",
              "           0.5320645 , -0.28451046],\n",
              "         [-0.36781383, -0.24069573, -0.6572469 , ..., -0.18069649,\n",
              "          -0.23995042,  1.5693746 ],\n",
              "         ...,\n",
              "         [ 0.37338647, -0.28216293,  0.35175973, ...,  0.3294411 ,\n",
              "          -0.43580598,  0.24113445],\n",
              "         [ 0.13028486, -0.28611827,  0.2869897 , ...,  0.41901442,\n",
              "          -0.5908999 ,  0.22441122],\n",
              "         [ 0.27331933, -0.4923327 ,  0.50849944, ...,  0.46494853,\n",
              "          -0.54922885,  0.0580036 ]]], dtype=float32)>,\n",
              " <tf.Tensor: shape=(2, 128, 768), dtype=float32, numpy=\n",
              " array([[[-0.73776305, -0.17314358, -0.34959573, ..., -0.30942342,\n",
              "          -0.4043043 ,  1.1143504 ],\n",
              "         [ 1.207679  , -0.01212099,  1.1145931 , ...,  0.26405436,\n",
              "          -0.36574882, -1.087375  ],\n",
              "         [ 0.10990224, -0.6245967 , -0.71054137, ..., -0.47475502,\n",
              "           0.55631566, -0.35633516],\n",
              "         ...,\n",
              "         [-0.27739304,  0.3281151 ,  1.5690488 , ...,  0.76959753,\n",
              "          -0.16459884, -0.87077487],\n",
              "         [-1.0558965 ,  0.14112148,  1.4887668 , ...,  0.3781507 ,\n",
              "          -0.37042692, -0.527997  ],\n",
              "         [-0.4728479 ,  0.18464458,  1.6580316 , ...,  0.7397682 ,\n",
              "          -0.21903697, -0.966458  ]],\n",
              " \n",
              "        [[-0.40968773, -1.2450337 , -0.8072516 , ..., -0.07993701,\n",
              "           0.38099238,  0.71971476],\n",
              "         [ 0.7129188 , -0.38113746, -0.9424015 , ..., -0.42741033,\n",
              "           0.96704876, -0.15180844],\n",
              "         [-0.2181186 , -0.53098935, -0.30853513, ..., -0.19840053,\n",
              "          -0.25919685,  1.855027  ],\n",
              "         ...,\n",
              "         [ 0.56621736, -0.2864617 ,  0.3702972 , ...,  0.5811047 ,\n",
              "          -0.281905  ,  0.46507668],\n",
              "         [ 0.3140675 , -0.2910254 ,  0.37749547, ...,  0.69844294,\n",
              "          -0.42737967,  0.45237565],\n",
              "         [ 0.44005233, -0.50090927,  0.5476552 , ...,  0.73645663,\n",
              "          -0.4176985 ,  0.24666265]]], dtype=float32)>,\n",
              " <tf.Tensor: shape=(2, 128, 768), dtype=float32, numpy=\n",
              " array([[[-8.1603491e-01, -3.8042214e-02, -5.4471958e-01, ...,\n",
              "          -9.5447427e-01, -3.5334313e-01,  1.0656132e+00],\n",
              "         [ 7.3538846e-01, -2.0467566e-01,  1.3515172e+00, ...,\n",
              "          -4.9998480e-01,  1.8340370e-02, -8.9494520e-01],\n",
              "         [-3.1149554e-01, -4.4534153e-01, -8.5094851e-01, ...,\n",
              "          -7.2825408e-01,  1.2940162e-01, -2.2656906e-01],\n",
              "         ...,\n",
              "         [-2.0852674e-02,  6.4384770e-01,  1.7413737e+00, ...,\n",
              "           6.3961732e-01, -8.5367691e-03, -7.3140764e-01],\n",
              "         [-1.0321127e+00,  3.6192387e-01,  1.2913079e+00, ...,\n",
              "           1.8819205e-02, -4.7986123e-01, -4.6856382e-01],\n",
              "         [-1.6514812e-01,  4.2128232e-01,  1.7543441e+00, ...,\n",
              "           6.2866688e-01, -1.2479894e-01, -8.3518845e-01]],\n",
              " \n",
              "        [[-2.1359333e-01, -9.5843124e-01, -5.9331155e-01, ...,\n",
              "          -1.4055353e-01,  8.0412310e-01,  7.3295569e-01],\n",
              "         [ 5.9295559e-01, -2.0686826e-01, -7.8062719e-01, ...,\n",
              "          -5.3701204e-01,  4.7645661e-01, -1.2247516e-03],\n",
              "         [-5.8932848e-02, -2.8655994e-01, -6.7956251e-01, ...,\n",
              "          -1.4915781e-01, -3.1785153e-02,  1.5082579e+00],\n",
              "         ...,\n",
              "         [ 5.3431600e-01,  8.5075162e-02,  1.9907157e-01, ...,\n",
              "           5.1752353e-01, -5.7329506e-02,  4.0198979e-01],\n",
              "         [ 2.5933248e-01,  1.2976779e-01,  1.4837265e-01, ...,\n",
              "           6.7429960e-01, -1.4372090e-01,  3.0816045e-01],\n",
              "         [ 4.1902006e-01, -1.6275226e-01,  3.4092125e-01, ...,\n",
              "           7.8050709e-01, -2.0289178e-01,  9.1156475e-02]]], dtype=float32)>,\n",
              " <tf.Tensor: shape=(2, 128, 768), dtype=float32, numpy=\n",
              " array([[[-1.0624434e+00,  3.0063525e-01, -7.5017118e-01, ...,\n",
              "          -6.8294877e-01, -6.2065375e-01,  6.9218063e-01],\n",
              "         [ 5.5717063e-01, -8.0477968e-03,  1.0275606e+00, ...,\n",
              "          -7.0285493e-01,  1.9268307e-01, -6.6288120e-01],\n",
              "         [-5.6294322e-01, -9.4639972e-02, -1.1538563e+00, ...,\n",
              "          -3.4120232e-01, -1.4637844e-01, -4.7291923e-01],\n",
              "         ...,\n",
              "         [-6.2025983e-02,  1.1087109e+00,  1.7322242e+00, ...,\n",
              "           3.9509460e-01,  2.7919832e-01, -3.6680725e-01],\n",
              "         [-1.2248886e+00,  6.1640429e-01,  1.0639461e+00, ...,\n",
              "          -5.8547273e-02, -4.0406317e-01, -4.9859187e-01],\n",
              "         [-2.4264786e-01,  8.3269602e-01,  1.8187414e+00, ...,\n",
              "           4.7956473e-01,  1.0582377e-01, -6.1446905e-01]],\n",
              " \n",
              "        [[ 4.9232379e-02, -3.8257688e-01, -2.7405131e-01, ...,\n",
              "          -2.4175073e-01,  8.8577276e-01,  8.4026867e-01],\n",
              "         [ 3.7399954e-01, -6.4764865e-02, -7.6190364e-01, ...,\n",
              "          -1.3232476e-01,  4.8878145e-01,  3.0289871e-01],\n",
              "         [ 3.2944605e-04,  3.6899883e-02, -5.7168835e-01, ...,\n",
              "          -4.9782676e-01,  1.5348667e-01,  1.7672501e+00],\n",
              "         ...,\n",
              "         [ 2.2936757e-01,  3.6944970e-01, -1.2533424e-02, ...,\n",
              "           5.5918831e-01,  7.1701907e-02,  5.5400795e-01],\n",
              "         [-7.2543360e-02,  3.7917569e-01, -8.5437104e-02, ...,\n",
              "           7.4913818e-01, -6.0736496e-02,  6.2094194e-01],\n",
              "         [ 9.7816885e-03,  2.0998900e-01,  1.2662567e-01, ...,\n",
              "           8.3413470e-01, -2.5115514e-02,  3.8287768e-01]]], dtype=float32)>,\n",
              " <tf.Tensor: shape=(2, 128, 768), dtype=float32, numpy=\n",
              " array([[[-1.0697114 ,  0.4062773 , -0.59509236, ..., -0.4681112 ,\n",
              "          -1.2228413 ,  0.6317475 ],\n",
              "         [ 0.42882544, -0.08073019,  0.91289777, ..., -0.8308192 ,\n",
              "          -0.28775543, -0.7813378 ],\n",
              "         [-0.86455184, -0.22375467, -0.8987349 , ...,  0.0200962 ,\n",
              "          -0.57898504, -0.28119138],\n",
              "         ...,\n",
              "         [-0.10227974,  1.0997691 ,  1.4680748 , ..., -0.17989585,\n",
              "          -0.20754486, -0.34726447],\n",
              "         [-1.1989255 ,  0.38024443,  0.87026185, ...,  0.0679391 ,\n",
              "          -0.81043243, -0.19778375],\n",
              "         [-0.21873406,  0.8289616 ,  1.5669156 , ..., -0.02596507,\n",
              "          -0.35078862, -0.52768373]],\n",
              " \n",
              "        [[-0.3194156 , -0.3982487 , -0.30313286, ..., -0.07987017,\n",
              "           0.466906  ,  0.9557294 ],\n",
              "         [ 0.3861413 , -0.22715786, -0.31242394, ..., -0.35884973,\n",
              "           0.60825765,  0.47688028],\n",
              "         [-0.02264265, -0.32071233, -0.89645475, ..., -0.7266213 ,\n",
              "           0.25128525,  1.5140988 ],\n",
              "         ...,\n",
              "         [ 0.06889002,  0.37536722,  0.47349396, ...,  0.2472915 ,\n",
              "          -0.23146951,  0.84692556],\n",
              "         [-0.26621944,  0.36058864,  0.29916176, ...,  0.44260347,\n",
              "          -0.26606926,  0.9575868 ],\n",
              "         [-0.19381194,  0.2774258 ,  0.52257234, ...,  0.54396266,\n",
              "          -0.24369155,  0.7397463 ]]], dtype=float32)>,\n",
              " <tf.Tensor: shape=(2, 128, 768), dtype=float32, numpy=\n",
              " array([[[-0.80210584,  0.36618435, -0.4178142 , ..., -0.43500558,\n",
              "          -0.5836732 ,  0.27991346],\n",
              "         [ 0.24977663, -0.12588544,  0.6999807 , ..., -0.87754416,\n",
              "          -0.574922  , -0.66333306],\n",
              "         [-0.6619538 , -0.2742975 , -0.8635027 , ..., -0.12964946,\n",
              "          -0.01013699, -0.10782479],\n",
              "         ...,\n",
              "         [-0.5721241 ,  0.8662054 ,  1.3082151 , ..., -0.67796326,\n",
              "          -0.5084057 , -0.23750983],\n",
              "         [-1.4955069 ,  0.4409693 ,  0.8911246 , ..., -0.320606  ,\n",
              "          -0.9533714 , -0.22323439],\n",
              "         [-0.7304831 ,  0.564219  ,  1.396461  , ..., -0.47071883,\n",
              "          -0.592874  , -0.31754324]],\n",
              " \n",
              "        [[-0.5704255 , -0.77807575, -0.30113587, ...,  0.03524423,\n",
              "          -0.04279941,  0.48347193],\n",
              "         [ 0.8812851 , -0.24982433, -0.13145721, ..., -0.49816567,\n",
              "           0.19043879,  0.6850941 ],\n",
              "         [-0.44141102, -0.6917403 , -0.7529922 , ..., -0.76705104,\n",
              "           0.21513647,  1.5590872 ],\n",
              "         ...,\n",
              "         [ 0.1650739 , -0.34548333,  0.79123753, ..., -0.2953033 ,\n",
              "          -0.77332646,  0.7422378 ],\n",
              "         [-0.21285403, -0.31745762,  0.5152429 , ..., -0.08124461,\n",
              "          -0.75866276,  0.8286718 ],\n",
              "         [-0.15808819, -0.37308645,  0.72284615, ...,  0.01330511,\n",
              "          -0.7222894 ,  0.73315364]]], dtype=float32)>,\n",
              " <tf.Tensor: shape=(2, 128, 768), dtype=float32, numpy=\n",
              " array([[[-0.27227864,  0.14789538, -0.10787872, ..., -0.06459264,\n",
              "          -0.044081  ,  0.0855126 ],\n",
              "         [-0.17380589, -0.33905694,  0.35551554, ..., -0.21042913,\n",
              "          -0.13088658, -0.47768098],\n",
              "         [-0.60513973, -0.2331337 , -0.54020417, ...,  0.32258275,\n",
              "           0.21910168,  0.03559504],\n",
              "         ...,\n",
              "         [-0.3015816 ,  0.17089853,  0.5174818 , ..., -0.09194057,\n",
              "          -0.09995969, -0.0244975 ],\n",
              "         [-0.7234544 ,  0.04594657,  0.32620966, ...,  0.13991778,\n",
              "          -0.16662094, -0.04399176],\n",
              "         [-0.36289176,  0.08378661,  0.53451556, ..., -0.02569456,\n",
              "          -0.1366407 , -0.0383386 ]],\n",
              " \n",
              "        [[-0.12189257, -0.5308182 , -0.22925293, ...,  0.0089344 ,\n",
              "          -0.2721612 ,  0.75005615],\n",
              "         [ 0.36247063, -0.1123523 ,  0.10693729, ..., -0.2407964 ,\n",
              "           0.04706728,  0.75156343],\n",
              "         [ 0.05897539, -0.3168582 , -0.60635376, ..., -0.17402111,\n",
              "          -0.3189447 ,  0.84345365],\n",
              "         ...,\n",
              "         [-0.14425379, -0.3272672 ,  0.48768467, ..., -0.18620336,\n",
              "          -0.46242765,  0.5747878 ],\n",
              "         [-0.25971302, -0.3285545 ,  0.3727669 , ..., -0.13124228,\n",
              "          -0.4421956 ,  0.6204784 ],\n",
              "         [-0.22949073, -0.3301329 ,  0.45565203, ..., -0.08471582,\n",
              "          -0.40470445,  0.5803422 ]]], dtype=float32)>]"
            ]
          },
          "metadata": {},
          "execution_count": 19
        }
      ]
    },
    {
      "cell_type": "code",
      "source": [],
      "metadata": {
        "id": "dD9EE4gkDjcf"
      },
      "execution_count": null,
      "outputs": []
    }
  ]
}